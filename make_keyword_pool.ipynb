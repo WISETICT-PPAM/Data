{
  "nbformat": 4,
  "nbformat_minor": 0,
  "metadata": {
    "colab": {
      "name": "make_keyword_pool.ipynb",
      "provenance": [],
      "collapsed_sections": []
    },
    "kernelspec": {
      "name": "python3",
      "display_name": "Python 3"
    }
  },
  "cells": [
    {
      "cell_type": "code",
      "metadata": {
        "id": "XeK2AsYdp5jM",
        "colab_type": "code",
        "colab": {}
      },
      "source": [
        "import pandas as pd\n",
        "import numpy as np"
      ],
      "execution_count": 1,
      "outputs": []
    },
    {
      "cell_type": "code",
      "metadata": {
        "id": "E_5TCwZrs2Pz",
        "colab_type": "code",
        "colab": {
          "base_uri": "https://localhost:8080/",
          "height": 70
        },
        "outputId": "5642b8fe-8a1f-43b1-d2c6-71e6ddffc2f6"
      },
      "source": [
        "from google.colab import drive\n",
        "drive.mount('/gdrive', force_remount=True)\n",
        "\n",
        "\n",
        "!ls \"/gdrive/My Drive/PPAM\""
      ],
      "execution_count": 2,
      "outputs": [
        {
          "output_type": "stream",
          "text": [
            "Mounted at /gdrive\n",
            "chromedriver.exe  keyword_pool.csv\t   review_cleaned.csv\n",
            "hanspell.csv\t  keyword_pool_tagged.csv  review_df.csv\n"
          ],
          "name": "stdout"
        }
      ]
    },
    {
      "cell_type": "code",
      "metadata": {
        "id": "X-4lo0-4s5p7",
        "colab_type": "code",
        "colab": {}
      },
      "source": [
        "df = pd.read_csv('/gdrive/My Drive/PPAM/review_df.csv',encoding='cp949')"
      ],
      "execution_count": 3,
      "outputs": []
    },
    {
      "cell_type": "code",
      "metadata": {
        "id": "C-UUIALV5asP",
        "colab_type": "code",
        "colab": {
          "base_uri": "https://localhost:8080/",
          "height": 175
        },
        "outputId": "90aa3998-0908-4cc2-f4cb-96d3a4ff956f"
      },
      "source": [
        "df.info()"
      ],
      "execution_count": 4,
      "outputs": [
        {
          "output_type": "stream",
          "text": [
            "<class 'pandas.core.frame.DataFrame'>\n",
            "RangeIndex: 150 entries, 0 to 149\n",
            "Data columns (total 2 columns):\n",
            " #   Column  Non-Null Count  Dtype \n",
            "---  ------  --------------  ----- \n",
            " 0   date    150 non-null    int64 \n",
            " 1   review  150 non-null    object\n",
            "dtypes: int64(1), object(1)\n",
            "memory usage: 2.5+ KB\n"
          ],
          "name": "stdout"
        }
      ]
    },
    {
      "cell_type": "code",
      "metadata": {
        "id": "hyWa8HEmt4vF",
        "colab_type": "code",
        "colab": {
          "base_uri": "https://localhost:8080/",
          "height": 195
        },
        "outputId": "88bfcf01-ffb2-4099-fe79-b187b799ade6"
      },
      "source": [
        "df.head()"
      ],
      "execution_count": 5,
      "outputs": [
        {
          "output_type": "execute_result",
          "data": {
            "text/html": [
              "<div>\n",
              "<style scoped>\n",
              "    .dataframe tbody tr th:only-of-type {\n",
              "        vertical-align: middle;\n",
              "    }\n",
              "\n",
              "    .dataframe tbody tr th {\n",
              "        vertical-align: top;\n",
              "    }\n",
              "\n",
              "    .dataframe thead th {\n",
              "        text-align: right;\n",
              "    }\n",
              "</style>\n",
              "<table border=\"1\" class=\"dataframe\">\n",
              "  <thead>\n",
              "    <tr style=\"text-align: right;\">\n",
              "      <th></th>\n",
              "      <th>date</th>\n",
              "      <th>review</th>\n",
              "    </tr>\n",
              "  </thead>\n",
              "  <tbody>\n",
              "    <tr>\n",
              "      <th>0</th>\n",
              "      <td>20200310</td>\n",
              "      <td>늘 같은 브랜드만 사용하다가 뭐에 꽂혔는지 이 제품을 샀습니다 공주같는 고양이가 끌...</td>\n",
              "    </tr>\n",
              "    <tr>\n",
              "      <th>1</th>\n",
              "      <td>20200424</td>\n",
              "      <td>제가 양이 적어서 언제나 중형만 사용했는데 나이가 들면서 조금씩 변하더라고요 그래서...</td>\n",
              "    </tr>\n",
              "    <tr>\n",
              "      <th>2</th>\n",
              "      <td>20200312</td>\n",
              "      <td>생리대 마트표 오버나이트만 쓰다가 인터넷으로 종류다양한걸 구매했네요 오버나이트는 오...</td>\n",
              "    </tr>\n",
              "    <tr>\n",
              "      <th>3</th>\n",
              "      <td>20200408</td>\n",
              "      <td>원래 좋은느낌만 오랫동안 사용해 왔다가 코로나로 나가기도 글코해서 주문하려고 보다보...</td>\n",
              "    </tr>\n",
              "    <tr>\n",
              "      <th>4</th>\n",
              "      <td>20170528</td>\n",
              "      <td>?중형3팩 대형2팩오버나이트1팩 6000원 쿠폰써서 싸게 구매  ?그동안 안간지럽다...</td>\n",
              "    </tr>\n",
              "  </tbody>\n",
              "</table>\n",
              "</div>"
            ],
            "text/plain": [
              "       date                                             review\n",
              "0  20200310  늘 같은 브랜드만 사용하다가 뭐에 꽂혔는지 이 제품을 샀습니다 공주같는 고양이가 끌...\n",
              "1  20200424  제가 양이 적어서 언제나 중형만 사용했는데 나이가 들면서 조금씩 변하더라고요 그래서...\n",
              "2  20200312  생리대 마트표 오버나이트만 쓰다가 인터넷으로 종류다양한걸 구매했네요 오버나이트는 오...\n",
              "3  20200408  원래 좋은느낌만 오랫동안 사용해 왔다가 코로나로 나가기도 글코해서 주문하려고 보다보...\n",
              "4  20170528  ?중형3팩 대형2팩오버나이트1팩 6000원 쿠폰써서 싸게 구매  ?그동안 안간지럽다..."
            ]
          },
          "metadata": {
            "tags": []
          },
          "execution_count": 5
        }
      ]
    },
    {
      "cell_type": "code",
      "metadata": {
        "id": "YYw3pFLIt-A8",
        "colab_type": "code",
        "colab": {}
      },
      "source": [
        "import re\n",
        "#특수문자 제거 함수 만들기\n",
        "def remove_specialChar(text):\n",
        "    p = re.compile('[ 가-힣]')\n",
        "    text = p.findall(text)\n",
        "    text = ''.join(text)\n",
        "    return text"
      ],
      "execution_count": 6,
      "outputs": []
    },
    {
      "cell_type": "code",
      "metadata": {
        "id": "3pbVpX2GuKb4",
        "colab_type": "code",
        "colab": {}
      },
      "source": [
        "list = []\n",
        "for i in range(0,len(df['date'])):\n",
        "  list.append(remove_specialChar(df['review'][i]))"
      ],
      "execution_count": 7,
      "outputs": []
    },
    {
      "cell_type": "code",
      "metadata": {
        "id": "7VpGDBGpuOTn",
        "colab_type": "code",
        "colab": {}
      },
      "source": [
        "df['review_remove_specialChar'] = list"
      ],
      "execution_count": 8,
      "outputs": []
    },
    {
      "cell_type": "code",
      "metadata": {
        "id": "FbEfM5NtuRiF",
        "colab_type": "code",
        "colab": {
          "base_uri": "https://localhost:8080/",
          "height": 195
        },
        "outputId": "7ae1e39c-899c-4547-b6cc-5309583af3c2"
      },
      "source": [
        "df.head()"
      ],
      "execution_count": 9,
      "outputs": [
        {
          "output_type": "execute_result",
          "data": {
            "text/html": [
              "<div>\n",
              "<style scoped>\n",
              "    .dataframe tbody tr th:only-of-type {\n",
              "        vertical-align: middle;\n",
              "    }\n",
              "\n",
              "    .dataframe tbody tr th {\n",
              "        vertical-align: top;\n",
              "    }\n",
              "\n",
              "    .dataframe thead th {\n",
              "        text-align: right;\n",
              "    }\n",
              "</style>\n",
              "<table border=\"1\" class=\"dataframe\">\n",
              "  <thead>\n",
              "    <tr style=\"text-align: right;\">\n",
              "      <th></th>\n",
              "      <th>date</th>\n",
              "      <th>review</th>\n",
              "      <th>review_remove_specialChar</th>\n",
              "    </tr>\n",
              "  </thead>\n",
              "  <tbody>\n",
              "    <tr>\n",
              "      <th>0</th>\n",
              "      <td>20200310</td>\n",
              "      <td>늘 같은 브랜드만 사용하다가 뭐에 꽂혔는지 이 제품을 샀습니다 공주같는 고양이가 끌...</td>\n",
              "      <td>늘 같은 브랜드만 사용하다가 뭐에 꽂혔는지 이 제품을 샀습니다 공주같는 고양이가 끌...</td>\n",
              "    </tr>\n",
              "    <tr>\n",
              "      <th>1</th>\n",
              "      <td>20200424</td>\n",
              "      <td>제가 양이 적어서 언제나 중형만 사용했는데 나이가 들면서 조금씩 변하더라고요 그래서...</td>\n",
              "      <td>제가 양이 적어서 언제나 중형만 사용했는데 나이가 들면서 조금씩 변하더라고요 그래서...</td>\n",
              "    </tr>\n",
              "    <tr>\n",
              "      <th>2</th>\n",
              "      <td>20200312</td>\n",
              "      <td>생리대 마트표 오버나이트만 쓰다가 인터넷으로 종류다양한걸 구매했네요 오버나이트는 오...</td>\n",
              "      <td>생리대 마트표 오버나이트만 쓰다가 인터넷으로 종류다양한걸 구매했네요 오버나이트는 오...</td>\n",
              "    </tr>\n",
              "    <tr>\n",
              "      <th>3</th>\n",
              "      <td>20200408</td>\n",
              "      <td>원래 좋은느낌만 오랫동안 사용해 왔다가 코로나로 나가기도 글코해서 주문하려고 보다보...</td>\n",
              "      <td>원래 좋은느낌만 오랫동안 사용해 왔다가 코로나로 나가기도 글코해서 주문하려고 보다보...</td>\n",
              "    </tr>\n",
              "    <tr>\n",
              "      <th>4</th>\n",
              "      <td>20170528</td>\n",
              "      <td>?중형3팩 대형2팩오버나이트1팩 6000원 쿠폰써서 싸게 구매  ?그동안 안간지럽다...</td>\n",
              "      <td>중형팩 대형팩오버나이트팩 원 쿠폰써서 싸게 구매  그동안 안간지럽다는 시크릿홀도 써...</td>\n",
              "    </tr>\n",
              "  </tbody>\n",
              "</table>\n",
              "</div>"
            ],
            "text/plain": [
              "       date  ...                          review_remove_specialChar\n",
              "0  20200310  ...  늘 같은 브랜드만 사용하다가 뭐에 꽂혔는지 이 제품을 샀습니다 공주같는 고양이가 끌...\n",
              "1  20200424  ...  제가 양이 적어서 언제나 중형만 사용했는데 나이가 들면서 조금씩 변하더라고요 그래서...\n",
              "2  20200312  ...  생리대 마트표 오버나이트만 쓰다가 인터넷으로 종류다양한걸 구매했네요 오버나이트는 오...\n",
              "3  20200408  ...  원래 좋은느낌만 오랫동안 사용해 왔다가 코로나로 나가기도 글코해서 주문하려고 보다보...\n",
              "4  20170528  ...  중형팩 대형팩오버나이트팩 원 쿠폰써서 싸게 구매  그동안 안간지럽다는 시크릿홀도 써...\n",
              "\n",
              "[5 rows x 3 columns]"
            ]
          },
          "metadata": {
            "tags": []
          },
          "execution_count": 9
        }
      ]
    },
    {
      "cell_type": "markdown",
      "metadata": {
        "id": "U1g6FFoTxBQd",
        "colab_type": "text"
      },
      "source": [
        "## 전처리 단계 2. 띄어쓰기 및 맞춤법 수정"
      ]
    },
    {
      "cell_type": "code",
      "metadata": {
        "id": "Y1iPcg7qxJjq",
        "colab_type": "code",
        "colab": {
          "base_uri": "https://localhost:8080/",
          "height": 598
        },
        "outputId": "75c763ee-0fac-4049-d8ed-4c358266e9b8"
      },
      "source": [
        "pip install konlpy"
      ],
      "execution_count": 10,
      "outputs": [
        {
          "output_type": "stream",
          "text": [
            "Collecting konlpy\n",
            "\u001b[?25l  Downloading https://files.pythonhosted.org/packages/85/0e/f385566fec837c0b83f216b2da65db9997b35dd675e107752005b7d392b1/konlpy-0.5.2-py2.py3-none-any.whl (19.4MB)\n",
            "\u001b[K     |████████████████████████████████| 19.4MB 35.0MB/s \n",
            "\u001b[?25hCollecting tweepy>=3.7.0\n",
            "  Downloading https://files.pythonhosted.org/packages/bb/7c/99d51f80f3b77b107ebae2634108717362c059a41384a1810d13e2429a81/tweepy-3.9.0-py2.py3-none-any.whl\n",
            "Collecting beautifulsoup4==4.6.0\n",
            "\u001b[?25l  Downloading https://files.pythonhosted.org/packages/9e/d4/10f46e5cfac773e22707237bfcd51bbffeaf0a576b0a847ec7ab15bd7ace/beautifulsoup4-4.6.0-py3-none-any.whl (86kB)\n",
            "\u001b[K     |████████████████████████████████| 92kB 8.2MB/s \n",
            "\u001b[?25hCollecting JPype1>=0.7.0\n",
            "\u001b[?25l  Downloading https://files.pythonhosted.org/packages/8b/f7/a368401e630f0e390dd0e62c39fb928e5b23741b53c2360ee7d376660927/JPype1-1.0.2-cp36-cp36m-manylinux2010_x86_64.whl (3.8MB)\n",
            "\u001b[K     |████████████████████████████████| 3.8MB 47.8MB/s \n",
            "\u001b[?25hRequirement already satisfied: numpy>=1.6 in /usr/local/lib/python3.6/dist-packages (from konlpy) (1.18.5)\n",
            "Collecting colorama\n",
            "  Downloading https://files.pythonhosted.org/packages/c9/dc/45cdef1b4d119eb96316b3117e6d5708a08029992b2fee2c143c7a0a5cc5/colorama-0.4.3-py2.py3-none-any.whl\n",
            "Requirement already satisfied: lxml>=4.1.0 in /usr/local/lib/python3.6/dist-packages (from konlpy) (4.2.6)\n",
            "Requirement already satisfied: requests-oauthlib>=0.7.0 in /usr/local/lib/python3.6/dist-packages (from tweepy>=3.7.0->konlpy) (1.3.0)\n",
            "Requirement already satisfied: six>=1.10.0 in /usr/local/lib/python3.6/dist-packages (from tweepy>=3.7.0->konlpy) (1.15.0)\n",
            "Requirement already satisfied: requests[socks]>=2.11.1 in /usr/local/lib/python3.6/dist-packages (from tweepy>=3.7.0->konlpy) (2.23.0)\n",
            "Requirement already satisfied: typing-extensions; python_version < \"3.8\" in /usr/local/lib/python3.6/dist-packages (from JPype1>=0.7.0->konlpy) (3.7.4.3)\n",
            "Requirement already satisfied: oauthlib>=3.0.0 in /usr/local/lib/python3.6/dist-packages (from requests-oauthlib>=0.7.0->tweepy>=3.7.0->konlpy) (3.1.0)\n",
            "Requirement already satisfied: urllib3!=1.25.0,!=1.25.1,<1.26,>=1.21.1 in /usr/local/lib/python3.6/dist-packages (from requests[socks]>=2.11.1->tweepy>=3.7.0->konlpy) (1.24.3)\n",
            "Requirement already satisfied: chardet<4,>=3.0.2 in /usr/local/lib/python3.6/dist-packages (from requests[socks]>=2.11.1->tweepy>=3.7.0->konlpy) (3.0.4)\n",
            "Requirement already satisfied: idna<3,>=2.5 in /usr/local/lib/python3.6/dist-packages (from requests[socks]>=2.11.1->tweepy>=3.7.0->konlpy) (2.10)\n",
            "Requirement already satisfied: certifi>=2017.4.17 in /usr/local/lib/python3.6/dist-packages (from requests[socks]>=2.11.1->tweepy>=3.7.0->konlpy) (2020.6.20)\n",
            "Requirement already satisfied: PySocks!=1.5.7,>=1.5.6; extra == \"socks\" in /usr/local/lib/python3.6/dist-packages (from requests[socks]>=2.11.1->tweepy>=3.7.0->konlpy) (1.7.1)\n",
            "Installing collected packages: tweepy, beautifulsoup4, JPype1, colorama, konlpy\n",
            "  Found existing installation: tweepy 3.6.0\n",
            "    Uninstalling tweepy-3.6.0:\n",
            "      Successfully uninstalled tweepy-3.6.0\n",
            "  Found existing installation: beautifulsoup4 4.6.3\n",
            "    Uninstalling beautifulsoup4-4.6.3:\n",
            "      Successfully uninstalled beautifulsoup4-4.6.3\n",
            "Successfully installed JPype1-1.0.2 beautifulsoup4-4.6.0 colorama-0.4.3 konlpy-0.5.2 tweepy-3.9.0\n"
          ],
          "name": "stdout"
        }
      ]
    },
    {
      "cell_type": "code",
      "metadata": {
        "id": "GzSRy-ZNxJ62",
        "colab_type": "code",
        "colab": {}
      },
      "source": [
        "from konlpy.tag import Okt"
      ],
      "execution_count": 11,
      "outputs": []
    },
    {
      "cell_type": "code",
      "metadata": {
        "id": "nY33ToBKxX2D",
        "colab_type": "code",
        "colab": {}
      },
      "source": [
        "import json \n",
        "import os"
      ],
      "execution_count": 12,
      "outputs": []
    },
    {
      "cell_type": "code",
      "metadata": {
        "id": "IkYMiZcPygPl",
        "colab_type": "code",
        "colab": {}
      },
      "source": [
        "okt = Okt()"
      ],
      "execution_count": 13,
      "outputs": []
    },
    {
      "cell_type": "code",
      "metadata": {
        "id": "TCxQeK37xZ1C",
        "colab_type": "code",
        "colab": {}
      },
      "source": [
        "def spacing_okt(wrongSentence):\n",
        "  tagged = okt.pos(wrongSentence)\n",
        "  corrected = \"\"\n",
        "  for i in tagged:\n",
        "    if i[1] in ('Josa', 'PreEomi', 'Eomi', 'Suffix', 'Punctuation'):\n",
        "      corrected += i[0]\n",
        "    else:\n",
        "      corrected += \" \" + i[0]\n",
        "  if corrected[0] == \" \":\n",
        "    corrected = corrected[1:]\n",
        "  return corrected \n"
      ],
      "execution_count": 14,
      "outputs": []
    },
    {
      "cell_type": "code",
      "metadata": {
        "id": "3L27DblzyFyc",
        "colab_type": "code",
        "colab": {
          "base_uri": "https://localhost:8080/",
          "height": 54
        },
        "outputId": "04a799c5-3266-441b-a433-60d1455d45b8"
      },
      "source": [
        "print(spacing_okt(df['review_remove_specialChar'][0])) "
      ],
      "execution_count": 15,
      "outputs": [
        {
          "output_type": "stream",
          "text": [
            "늘 같은 브랜드만 사용 하다가 뭐에 꽂혔는지 이 제품을 샀습니다 공주 같는 고양이가 끌렸던걸 까 보통 이 것 저 것 따져 보고 살텐데 그냥 질렀네요 코로나로 삶은 피 폐해 져가는데 생리는 아무 생각이 없죠 난소가 그걸 따지겠어요 자궁이 따지겠어요 어쨌거나 담담히 담겨 온 택배 상자 열 어보니까 꽤 정갈해요 구성도 소형 세 개 대형 두 개 오버 나이트 한개 사용 빈도 높은 순으로 담겨 온 게 배려 돋는다 느꼈죠 감촉도 나쁘지 않아요 비닐 같은 재질은 생리 혈이 흡수 되면 바로 들 쩍들 쩍 붙으면서 짜증 엄청나는데 그런대로 괜찮은 편각 사이즈의 길이 감도 나쁘지 않고 패드는 얇은 편이라 착용 감도 괜찮네요 두꺼운 건 묵직하니 정말 짜증나는데 미안해요 생각보다 괜찮고 좋은 제품이라 후기를 올려주고 싶은데 생리중이라 텐션이 쳐져요\n"
          ],
          "name": "stdout"
        }
      ]
    },
    {
      "cell_type": "code",
      "metadata": {
        "id": "bZ7yB0UOyTlq",
        "colab_type": "code",
        "colab": {}
      },
      "source": [
        "list = []\n",
        "for i in range(0,len(df['review_remove_specialChar'])):\n",
        "  list.append(spacing_okt(df['review_remove_specialChar'][i]))"
      ],
      "execution_count": null,
      "outputs": []
    },
    {
      "cell_type": "code",
      "metadata": {
        "id": "Uoi7GP3e0LVG",
        "colab_type": "code",
        "colab": {}
      },
      "source": [
        "df['review_cleaned'] = list"
      ],
      "execution_count": null,
      "outputs": []
    },
    {
      "cell_type": "code",
      "metadata": {
        "id": "Yhb5MuAp0Vvy",
        "colab_type": "code",
        "colab": {
          "base_uri": "https://localhost:8080/",
          "height": 17
        },
        "outputId": "b5203d5b-58de-4f3d-b19e-d49cab217d55"
      },
      "source": [
        "from google.colab import files\n",
        "\n",
        "df.to_csv('review_cleaned.csv', encoding='cp949')\n",
        "files.download('review_cleaned.csv')"
      ],
      "execution_count": null,
      "outputs": [
        {
          "output_type": "display_data",
          "data": {
            "application/javascript": [
              "\n",
              "    async function download(id, filename, size) {\n",
              "      if (!google.colab.kernel.accessAllowed) {\n",
              "        return;\n",
              "      }\n",
              "      const div = document.createElement('div');\n",
              "      const label = document.createElement('label');\n",
              "      label.textContent = `Downloading \"${filename}\": `;\n",
              "      div.appendChild(label);\n",
              "      const progress = document.createElement('progress');\n",
              "      progress.max = size;\n",
              "      div.appendChild(progress);\n",
              "      document.body.appendChild(div);\n",
              "\n",
              "      const buffers = [];\n",
              "      let downloaded = 0;\n",
              "\n",
              "      const channel = await google.colab.kernel.comms.open(id);\n",
              "      // Send a message to notify the kernel that we're ready.\n",
              "      channel.send({})\n",
              "\n",
              "      for await (const message of channel.messages) {\n",
              "        // Send a message to notify the kernel that we're ready.\n",
              "        channel.send({})\n",
              "        if (message.buffers) {\n",
              "          for (const buffer of message.buffers) {\n",
              "            buffers.push(buffer);\n",
              "            downloaded += buffer.byteLength;\n",
              "            progress.value = downloaded;\n",
              "          }\n",
              "        }\n",
              "      }\n",
              "      const blob = new Blob(buffers, {type: 'application/binary'});\n",
              "      const a = document.createElement('a');\n",
              "      a.href = window.URL.createObjectURL(blob);\n",
              "      a.download = filename;\n",
              "      div.appendChild(a);\n",
              "      a.click();\n",
              "      div.remove();\n",
              "    }\n",
              "  "
            ],
            "text/plain": [
              "<IPython.core.display.Javascript object>"
            ]
          },
          "metadata": {
            "tags": []
          }
        },
        {
          "output_type": "display_data",
          "data": {
            "application/javascript": [
              "download(\"download_5fbbb064-a0c7-482f-8178-7bcbd22dc6f1\", \"review_cleaned.csv\", 113505)"
            ],
            "text/plain": [
              "<IPython.core.display.Javascript object>"
            ]
          },
          "metadata": {
            "tags": []
          }
        }
      ]
    },
    {
      "cell_type": "markdown",
      "metadata": {
        "id": "UEQVZi9O2YvS",
        "colab_type": "text"
      },
      "source": [
        "## KR-WordRank"
      ]
    },
    {
      "cell_type": "code",
      "metadata": {
        "id": "vDzk0oOf2JRO",
        "colab_type": "code",
        "colab": {
          "base_uri": "https://localhost:8080/",
          "height": 125
        },
        "outputId": "52a9fdfb-cc4f-4cc4-d73e-8cdb54b039bb"
      },
      "source": [
        "pip install krwordrank"
      ],
      "execution_count": null,
      "outputs": [
        {
          "output_type": "stream",
          "text": [
            "Collecting krwordrank\n",
            "  Downloading https://files.pythonhosted.org/packages/78/d4/571d7c01ca80f0e608afe5f26a55363811673bb6add61499bc77b007bc2b/krwordrank-1.0.2-py3-none-any.whl\n",
            "Requirement already satisfied: numpy>=1.12.1 in /usr/local/lib/python3.6/dist-packages (from krwordrank) (1.18.5)\n",
            "Installing collected packages: krwordrank\n",
            "Successfully installed krwordrank-1.0.2\n"
          ],
          "name": "stdout"
        }
      ]
    },
    {
      "cell_type": "code",
      "metadata": {
        "id": "hglAhXUB2MVr",
        "colab_type": "code",
        "colab": {}
      },
      "source": [
        "from krwordrank.word import KRWordRank "
      ],
      "execution_count": null,
      "outputs": []
    },
    {
      "cell_type": "code",
      "metadata": {
        "id": "LXdDqGIR2VsA",
        "colab_type": "code",
        "colab": {}
      },
      "source": [
        "min_count = 5\n",
        "max_length = 10\n",
        "wordrank_extractor = KRWordRank(min_count=min_count, max_length=max_length)"
      ],
      "execution_count": null,
      "outputs": []
    },
    {
      "cell_type": "code",
      "metadata": {
        "id": "nOSAMRfm2h8B",
        "colab_type": "code",
        "colab": {}
      },
      "source": [
        "beta = 0.85    # PageRank의 decaying factor beta\n",
        "max_iter = 10\n",
        "texts = df['review_cleaned']\n",
        "keywords, rank, graph = wordrank_extractor.extract(texts, beta, max_iter)"
      ],
      "execution_count": null,
      "outputs": []
    },
    {
      "cell_type": "code",
      "metadata": {
        "id": "KixwsVur3B_r",
        "colab_type": "code",
        "colab": {
          "base_uri": "https://localhost:8080/",
          "height": 1000
        },
        "outputId": "cac08724-8be8-426b-e520-4d98a1b19c02"
      },
      "source": [
        "for word, r in sorted(keywords.items(), key=lambda x:x[1], reverse=True)[:100]:\n",
        "        print('%8s:\\t%.4f' % (word, r))"
      ],
      "execution_count": null,
      "outputs": [
        {
          "output_type": "stream",
          "text": [
            "      사용:\t6.2054\n",
            "     생리대:\t5.3880\n",
            "      오버:\t4.8817\n",
            "      구매:\t4.0882\n",
            "      가격:\t3.7472\n",
            "     좋아요:\t3.5704\n",
            "      좋은:\t3.5240\n",
            "      제품:\t3.2881\n",
            "      느낌:\t2.8851\n",
            "      너무:\t2.7341\n",
            "     나이트:\t2.4908\n",
            "      중형:\t2.4155\n",
            "      흡수:\t2.0928\n",
            "      착용:\t2.0912\n",
            "      좋고:\t1.9241\n",
            "      구성:\t1.9149\n",
            "     같아요:\t1.9068\n",
            "      대형:\t1.8932\n",
            "      저렴:\t1.8457\n",
            "      구입:\t1.8418\n",
            "      데이:\t1.8402\n",
            "      정말:\t1.7819\n",
            "      않고:\t1.7571\n",
            "      저는:\t1.7108\n",
            "     입니다:\t1.6961\n",
            "     시크릿:\t1.6473\n",
            "      양이:\t1.6358\n",
            "      배송:\t1.6351\n",
            "      있어:\t1.6238\n",
            "      다른:\t1.5859\n",
            "      상품:\t1.4649\n",
            "     그래도:\t1.4648\n",
            "      후기:\t1.4433\n",
            "     합니다:\t1.4294\n",
            "      같은:\t1.4167\n",
            "      많이:\t1.4070\n",
            "      그런:\t1.3852\n",
            "     했는데:\t1.3364\n",
            "      하는:\t1.3231\n",
            "      쓰고:\t1.3128\n",
            "     재구매:\t1.2024\n",
            "      자주:\t1.1929\n",
            "      해서:\t1.1794\n",
            "      쓰는:\t1.1506\n",
            "      해요:\t1.1322\n",
            "      만족:\t1.1222\n",
            "     좋네요:\t1.1153\n",
            "      주문:\t1.1087\n",
            "     사이즈:\t1.1037\n",
            "      부분:\t1.0960\n",
            "      생각:\t1.0796\n",
            "      접착:\t1.0684\n",
            "     했어요:\t1.0211\n",
            "      닿는:\t1.0145\n",
            "      얇고:\t1.0055\n",
            "      않아:\t1.0038\n",
            "      세트:\t0.9973\n",
            "      괜찮:\t0.9948\n",
            "      해보:\t0.9851\n",
            "      거의:\t0.9713\n",
            "      없고:\t0.9647\n",
            "      있는:\t0.9629\n",
            "      종류:\t0.9564\n",
            "      쿠팡:\t0.9532\n",
            "      좋았:\t0.9517\n",
            "      진짜:\t0.9516\n",
            "      그냥:\t0.9510\n",
            "      길이:\t0.9487\n",
            "      여러:\t0.9457\n",
            "      엄청:\t0.9428\n",
            "      많은:\t0.9362\n",
            "      처음:\t0.9284\n",
            "      한번:\t0.9226\n",
            "      정도:\t0.9195\n",
            "      원래:\t0.9161\n",
            "      팬티:\t0.9148\n",
            "      불편:\t0.9133\n",
            "      보통:\t0.9126\n",
            "     없어서:\t0.9040\n",
            "    부드럽고:\t0.9010\n",
            "      마트:\t0.8966\n",
            "      되어:\t0.8961\n",
            "      계속:\t0.8867\n",
            "      날개:\t0.8767\n",
            "      제가:\t0.8473\n",
            "      바로:\t0.8451\n",
            "      사실:\t0.8430\n",
            "      감도:\t0.8421\n",
            "      포장:\t0.8251\n",
            "      로켓:\t0.8216\n",
            "    있습니다:\t0.8175\n",
            "      대비:\t0.8108\n",
            "      별로:\t0.7863\n",
            "      아직:\t0.7727\n",
            "      하기:\t0.7712\n",
            "      조금:\t0.7683\n",
            "      순면:\t0.7659\n",
            "     나쁘지:\t0.7597\n",
            "      정착:\t0.7593\n",
            "      없이:\t0.7490\n"
          ],
          "name": "stdout"
        }
      ]
    },
    {
      "cell_type": "code",
      "metadata": {
        "id": "D1RSnX1i3D_9",
        "colab_type": "code",
        "colab": {}
      },
      "source": [
        "from krwordrank.sentence import summarize_with_sentences\n",
        "\n",
        "texts = df['review_cleaned'] # 정제된 리뷰 데이터\n",
        "keywords, sents = summarize_with_sentences(texts, num_keywords=100, num_keysents=10)"
      ],
      "execution_count": null,
      "outputs": []
    },
    {
      "cell_type": "code",
      "metadata": {
        "id": "8fttMeHr4aNj",
        "colab_type": "code",
        "colab": {
          "base_uri": "https://localhost:8080/",
          "height": 1000
        },
        "outputId": "8cefccfd-42f4-4d9a-a592-305762a1c213"
      },
      "source": [
        "keywords"
      ],
      "execution_count": null,
      "outputs": [
        {
          "output_type": "execute_result",
          "data": {
            "text/plain": [
              "{'가격': 3.7472471570603476,\n",
              " '감도': 0.8420750890683261,\n",
              " '같아요': 1.9067620608892866,\n",
              " '같은': 1.4167161055884123,\n",
              " '거의': 0.9712907806828658,\n",
              " '계속': 0.886716098345867,\n",
              " '괜찮': 0.9948307558857766,\n",
              " '구매': 4.088173247263982,\n",
              " '구성': 1.9149324304832578,\n",
              " '구입': 1.8418066218358358,\n",
              " '그냥': 0.9509914682232771,\n",
              " '그래도': 1.4647594307096532,\n",
              " '그런': 1.3851587174924416,\n",
              " '길이': 0.9486558996707121,\n",
              " '나쁘지': 0.759722381805451,\n",
              " '나이트': 2.490810000041776,\n",
              " '날개': 0.8767382712488967,\n",
              " '너무': 2.73408848298437,\n",
              " '느낌': 2.885136979552974,\n",
              " '다른': 1.5859084700694108,\n",
              " '닿는': 1.0145284678737856,\n",
              " '대비': 0.8108153395444714,\n",
              " '대형': 1.8931968014793128,\n",
              " '데이': 1.8402150437446694,\n",
              " '되어': 0.8961397104842376,\n",
              " '로켓': 0.8215865552808244,\n",
              " '마트': 0.8965807225349929,\n",
              " '만족': 1.1222179725552426,\n",
              " '많은': 0.9362246571932274,\n",
              " '많이': 1.4069944149569107,\n",
              " '바로': 0.8450849179731144,\n",
              " '배송': 1.6350800299154509,\n",
              " '별로': 0.7862606364130882,\n",
              " '보통': 0.9125933643214695,\n",
              " '부드럽고': 0.9009843421487143,\n",
              " '부분': 1.0959504054890667,\n",
              " '불편': 0.9133156439653293,\n",
              " '사실': 0.842986709003182,\n",
              " '사용': 6.205446129211169,\n",
              " '사이즈': 1.1036515048272557,\n",
              " '상품': 1.4649122047830567,\n",
              " '생각': 1.079577864309102,\n",
              " '생리대': 5.387956705297124,\n",
              " '세트': 0.9972648883886572,\n",
              " '순면': 0.7659456342751525,\n",
              " '시크릿': 1.6473301370687214,\n",
              " '쓰고': 1.3128098433795197,\n",
              " '쓰는': 1.1506090242718097,\n",
              " '아직': 0.7727382425196014,\n",
              " '않고': 1.7571277133803864,\n",
              " '않아': 1.0037974447084097,\n",
              " '얇고': 1.005450444369791,\n",
              " '양이': 1.6357632001671738,\n",
              " '엄청': 0.9427533100454564,\n",
              " '없고': 0.9646815225427396,\n",
              " '없어서': 0.9039985168504011,\n",
              " '없이': 0.7490141169064053,\n",
              " '여러': 0.9456607765182403,\n",
              " '오버': 4.881699107340696,\n",
              " '원래': 0.916136939433129,\n",
              " '입니다': 1.6961233040780996,\n",
              " '있는': 0.9628812475619994,\n",
              " '있습니다': 0.8175040024443874,\n",
              " '있어': 1.6238231458345225,\n",
              " '자주': 1.1928946173532369,\n",
              " '재구매': 1.2023836887492112,\n",
              " '저는': 1.7107789401539666,\n",
              " '저렴': 1.8456673537461907,\n",
              " '접착': 1.0684338270092395,\n",
              " '정도': 0.919458896777286,\n",
              " '정말': 1.7818809292684499,\n",
              " '정착': 0.759334188906803,\n",
              " '제가': 0.8472533728686551,\n",
              " '제품': 3.288086879957746,\n",
              " '조금': 0.7682591154576254,\n",
              " '종류': 0.9563776401295804,\n",
              " '좋고': 1.9240738494669998,\n",
              " '좋네요': 1.1153388378857996,\n",
              " '좋아요': 3.5704486376845503,\n",
              " '좋았': 0.9516686715790101,\n",
              " '좋은': 3.524017653053357,\n",
              " '주문': 1.1087385069139095,\n",
              " '중형': 2.4154663652750497,\n",
              " '진짜': 0.9516440200206487,\n",
              " '착용': 2.091194175101451,\n",
              " '처음': 0.9284349567758825,\n",
              " '쿠팡': 0.9532256018538274,\n",
              " '팬티': 0.914790264265339,\n",
              " '포장': 0.8251112297052509,\n",
              " '하기': 0.7712034304458474,\n",
              " '하는': 1.323118716198655,\n",
              " '한번': 0.9226117851717064,\n",
              " '합니다': 1.4294449788554435,\n",
              " '해보': 0.9851230773909005,\n",
              " '해서': 1.1793979968246617,\n",
              " '해요': 1.1321913400039967,\n",
              " '했는데': 1.3364059271626476,\n",
              " '했어요': 1.0210852249093705,\n",
              " '후기': 1.4432541370784087,\n",
              " '흡수': 2.0927995955614365}"
            ]
          },
          "metadata": {
            "tags": []
          },
          "execution_count": 38
        }
      ]
    },
    {
      "cell_type": "code",
      "metadata": {
        "id": "wHMMFhiv4cgm",
        "colab_type": "code",
        "colab": {}
      },
      "source": [
        "keywords_df = keywords"
      ],
      "execution_count": null,
      "outputs": []
    },
    {
      "cell_type": "code",
      "metadata": {
        "id": "ygtR0Bwt9Jf1",
        "colab_type": "code",
        "colab": {}
      },
      "source": [
        "keywords_df = pd.DataFrame.from_dict(keywords_df, orient='index')"
      ],
      "execution_count": null,
      "outputs": []
    },
    {
      "cell_type": "code",
      "metadata": {
        "id": "NEUN4efU9Ook",
        "colab_type": "code",
        "colab": {
          "base_uri": "https://localhost:8080/",
          "height": 402
        },
        "outputId": "c173b7b7-09bd-4702-d4b1-b062ecfef4dd"
      },
      "source": [
        "keywords_df"
      ],
      "execution_count": null,
      "outputs": [
        {
          "output_type": "execute_result",
          "data": {
            "text/html": [
              "<div>\n",
              "<style scoped>\n",
              "    .dataframe tbody tr th:only-of-type {\n",
              "        vertical-align: middle;\n",
              "    }\n",
              "\n",
              "    .dataframe tbody tr th {\n",
              "        vertical-align: top;\n",
              "    }\n",
              "\n",
              "    .dataframe thead th {\n",
              "        text-align: right;\n",
              "    }\n",
              "</style>\n",
              "<table border=\"1\" class=\"dataframe\">\n",
              "  <thead>\n",
              "    <tr style=\"text-align: right;\">\n",
              "      <th></th>\n",
              "      <th>0</th>\n",
              "    </tr>\n",
              "  </thead>\n",
              "  <tbody>\n",
              "    <tr>\n",
              "      <th>사용</th>\n",
              "      <td>6.205446</td>\n",
              "    </tr>\n",
              "    <tr>\n",
              "      <th>생리대</th>\n",
              "      <td>5.387957</td>\n",
              "    </tr>\n",
              "    <tr>\n",
              "      <th>오버</th>\n",
              "      <td>4.881699</td>\n",
              "    </tr>\n",
              "    <tr>\n",
              "      <th>구매</th>\n",
              "      <td>4.088173</td>\n",
              "    </tr>\n",
              "    <tr>\n",
              "      <th>가격</th>\n",
              "      <td>3.747247</td>\n",
              "    </tr>\n",
              "    <tr>\n",
              "      <th>...</th>\n",
              "      <td>...</td>\n",
              "    </tr>\n",
              "    <tr>\n",
              "      <th>조금</th>\n",
              "      <td>0.768259</td>\n",
              "    </tr>\n",
              "    <tr>\n",
              "      <th>순면</th>\n",
              "      <td>0.765946</td>\n",
              "    </tr>\n",
              "    <tr>\n",
              "      <th>나쁘지</th>\n",
              "      <td>0.759722</td>\n",
              "    </tr>\n",
              "    <tr>\n",
              "      <th>정착</th>\n",
              "      <td>0.759334</td>\n",
              "    </tr>\n",
              "    <tr>\n",
              "      <th>없이</th>\n",
              "      <td>0.749014</td>\n",
              "    </tr>\n",
              "  </tbody>\n",
              "</table>\n",
              "<p>100 rows × 1 columns</p>\n",
              "</div>"
            ],
            "text/plain": [
              "            0\n",
              "사용   6.205446\n",
              "생리대  5.387957\n",
              "오버   4.881699\n",
              "구매   4.088173\n",
              "가격   3.747247\n",
              "..        ...\n",
              "조금   0.768259\n",
              "순면   0.765946\n",
              "나쁘지  0.759722\n",
              "정착   0.759334\n",
              "없이   0.749014\n",
              "\n",
              "[100 rows x 1 columns]"
            ]
          },
          "metadata": {
            "tags": []
          },
          "execution_count": 41
        }
      ]
    },
    {
      "cell_type": "code",
      "metadata": {
        "id": "GVBUx8qz9RhD",
        "colab_type": "code",
        "colab": {
          "base_uri": "https://localhost:8080/",
          "height": 17
        },
        "outputId": "87032199-be0f-4e56-880e-cc709814f0a3"
      },
      "source": [
        "keywords_df.to_csv('keywords_df2.csv', encoding='cp949')\n",
        "files.download('keywords_df2.csv')"
      ],
      "execution_count": null,
      "outputs": [
        {
          "output_type": "display_data",
          "data": {
            "application/javascript": [
              "\n",
              "    async function download(id, filename, size) {\n",
              "      if (!google.colab.kernel.accessAllowed) {\n",
              "        return;\n",
              "      }\n",
              "      const div = document.createElement('div');\n",
              "      const label = document.createElement('label');\n",
              "      label.textContent = `Downloading \"${filename}\": `;\n",
              "      div.appendChild(label);\n",
              "      const progress = document.createElement('progress');\n",
              "      progress.max = size;\n",
              "      div.appendChild(progress);\n",
              "      document.body.appendChild(div);\n",
              "\n",
              "      const buffers = [];\n",
              "      let downloaded = 0;\n",
              "\n",
              "      const channel = await google.colab.kernel.comms.open(id);\n",
              "      // Send a message to notify the kernel that we're ready.\n",
              "      channel.send({})\n",
              "\n",
              "      for await (const message of channel.messages) {\n",
              "        // Send a message to notify the kernel that we're ready.\n",
              "        channel.send({})\n",
              "        if (message.buffers) {\n",
              "          for (const buffer of message.buffers) {\n",
              "            buffers.push(buffer);\n",
              "            downloaded += buffer.byteLength;\n",
              "            progress.value = downloaded;\n",
              "          }\n",
              "        }\n",
              "      }\n",
              "      const blob = new Blob(buffers, {type: 'application/binary'});\n",
              "      const a = document.createElement('a');\n",
              "      a.href = window.URL.createObjectURL(blob);\n",
              "      a.download = filename;\n",
              "      div.appendChild(a);\n",
              "      a.click();\n",
              "      div.remove();\n",
              "    }\n",
              "  "
            ],
            "text/plain": [
              "<IPython.core.display.Javascript object>"
            ]
          },
          "metadata": {
            "tags": []
          }
        },
        {
          "output_type": "display_data",
          "data": {
            "application/javascript": [
              "download(\"download_89ed2571-4ee3-4f9d-82da-2743c6a7978f\", \"keywords_df2.csv\", 2420)"
            ],
            "text/plain": [
              "<IPython.core.display.Javascript object>"
            ]
          },
          "metadata": {
            "tags": []
          }
        }
      ]
    },
    {
      "cell_type": "code",
      "metadata": {
        "id": "xHxSv-MD9nG4",
        "colab_type": "code",
        "colab": {}
      },
      "source": [
        ""
      ],
      "execution_count": null,
      "outputs": []
    }
  ]
}