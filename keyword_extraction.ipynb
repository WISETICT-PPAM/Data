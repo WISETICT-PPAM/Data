{
  "nbformat": 4,
  "nbformat_minor": 0,
  "metadata": {
    "colab": {
      "name": "제품별키워드추출.ipynb",
      "provenance": []
    },
    "kernelspec": {
      "name": "python3",
      "display_name": "Python 3"
    }
  },
  "cells": [
    {
      "cell_type": "code",
      "metadata": {
        "id": "13EHDKQsRRXV",
        "colab_type": "code",
        "colab": {
          "base_uri": "https://localhost:8080/",
          "height": 598
        },
        "outputId": "511a8bf7-60eb-471c-9430-dcf9ef54975d"
      },
      "source": [
        "pip install konlpy"
      ],
      "execution_count": null,
      "outputs": [
        {
          "output_type": "stream",
          "text": [
            "Collecting konlpy\n",
            "\u001b[?25l  Downloading https://files.pythonhosted.org/packages/85/0e/f385566fec837c0b83f216b2da65db9997b35dd675e107752005b7d392b1/konlpy-0.5.2-py2.py3-none-any.whl (19.4MB)\n",
            "\u001b[K     |████████████████████████████████| 19.4MB 1.5MB/s \n",
            "\u001b[?25hRequirement already satisfied: lxml>=4.1.0 in /usr/local/lib/python3.6/dist-packages (from konlpy) (4.2.6)\n",
            "Requirement already satisfied: numpy>=1.6 in /usr/local/lib/python3.6/dist-packages (from konlpy) (1.18.5)\n",
            "Collecting JPype1>=0.7.0\n",
            "\u001b[?25l  Downloading https://files.pythonhosted.org/packages/50/49/725710351d78d26c65337b1e3b322d7b27b34b704535ab56afc0d9ab0ffd/JPype1-1.0.1-cp36-cp36m-manylinux2010_x86_64.whl (3.8MB)\n",
            "\u001b[K     |████████████████████████████████| 3.8MB 37.8MB/s \n",
            "\u001b[?25hCollecting beautifulsoup4==4.6.0\n",
            "\u001b[?25l  Downloading https://files.pythonhosted.org/packages/9e/d4/10f46e5cfac773e22707237bfcd51bbffeaf0a576b0a847ec7ab15bd7ace/beautifulsoup4-4.6.0-py3-none-any.whl (86kB)\n",
            "\u001b[K     |████████████████████████████████| 92kB 8.5MB/s \n",
            "\u001b[?25hCollecting tweepy>=3.7.0\n",
            "  Downloading https://files.pythonhosted.org/packages/bb/7c/99d51f80f3b77b107ebae2634108717362c059a41384a1810d13e2429a81/tweepy-3.9.0-py2.py3-none-any.whl\n",
            "Collecting colorama\n",
            "  Downloading https://files.pythonhosted.org/packages/c9/dc/45cdef1b4d119eb96316b3117e6d5708a08029992b2fee2c143c7a0a5cc5/colorama-0.4.3-py2.py3-none-any.whl\n",
            "Requirement already satisfied: typing-extensions; python_version < \"3.8\" in /usr/local/lib/python3.6/dist-packages (from JPype1>=0.7.0->konlpy) (3.7.4.2)\n",
            "Requirement already satisfied: requests-oauthlib>=0.7.0 in /usr/local/lib/python3.6/dist-packages (from tweepy>=3.7.0->konlpy) (1.3.0)\n",
            "Requirement already satisfied: six>=1.10.0 in /usr/local/lib/python3.6/dist-packages (from tweepy>=3.7.0->konlpy) (1.15.0)\n",
            "Requirement already satisfied: requests[socks]>=2.11.1 in /usr/local/lib/python3.6/dist-packages (from tweepy>=3.7.0->konlpy) (2.23.0)\n",
            "Requirement already satisfied: oauthlib>=3.0.0 in /usr/local/lib/python3.6/dist-packages (from requests-oauthlib>=0.7.0->tweepy>=3.7.0->konlpy) (3.1.0)\n",
            "Requirement already satisfied: idna<3,>=2.5 in /usr/local/lib/python3.6/dist-packages (from requests[socks]>=2.11.1->tweepy>=3.7.0->konlpy) (2.10)\n",
            "Requirement already satisfied: urllib3!=1.25.0,!=1.25.1,<1.26,>=1.21.1 in /usr/local/lib/python3.6/dist-packages (from requests[socks]>=2.11.1->tweepy>=3.7.0->konlpy) (1.24.3)\n",
            "Requirement already satisfied: chardet<4,>=3.0.2 in /usr/local/lib/python3.6/dist-packages (from requests[socks]>=2.11.1->tweepy>=3.7.0->konlpy) (3.0.4)\n",
            "Requirement already satisfied: certifi>=2017.4.17 in /usr/local/lib/python3.6/dist-packages (from requests[socks]>=2.11.1->tweepy>=3.7.0->konlpy) (2020.6.20)\n",
            "Requirement already satisfied: PySocks!=1.5.7,>=1.5.6; extra == \"socks\" in /usr/local/lib/python3.6/dist-packages (from requests[socks]>=2.11.1->tweepy>=3.7.0->konlpy) (1.7.1)\n",
            "Installing collected packages: JPype1, beautifulsoup4, tweepy, colorama, konlpy\n",
            "  Found existing installation: beautifulsoup4 4.6.3\n",
            "    Uninstalling beautifulsoup4-4.6.3:\n",
            "      Successfully uninstalled beautifulsoup4-4.6.3\n",
            "  Found existing installation: tweepy 3.6.0\n",
            "    Uninstalling tweepy-3.6.0:\n",
            "      Successfully uninstalled tweepy-3.6.0\n",
            "Successfully installed JPype1-1.0.1 beautifulsoup4-4.6.0 colorama-0.4.3 konlpy-0.5.2 tweepy-3.9.0\n"
          ],
          "name": "stdout"
        }
      ]
    },
    {
      "cell_type": "code",
      "metadata": {
        "id": "h0U1usD3RUCh",
        "colab_type": "code",
        "colab": {
          "base_uri": "https://localhost:8080/",
          "height": 34
        },
        "outputId": "98164e07-b031-4ef2-bfc2-a3d3c22a5800"
      },
      "source": [
        "from konlpy.tag import Komoran\n",
        "\n",
        "Komoran().pos('했다') "
      ],
      "execution_count": null,
      "outputs": [
        {
          "output_type": "execute_result",
          "data": {
            "text/plain": [
              "[('하', 'VV'), ('았', 'EP'), ('다', 'EC')]"
            ]
          },
          "metadata": {
            "tags": []
          },
          "execution_count": 2
        }
      ]
    },
    {
      "cell_type": "code",
      "metadata": {
        "id": "t0f3ZDC5R-VE",
        "colab_type": "code",
        "colab": {}
      },
      "source": [
        "def lemmatize(word):\n",
        "    morphtags = komoran.pos(word)\n",
        "    if morphtags[0][1] == 'VA' or morphtags[0][1] == 'VV':\n",
        "        return morphtags[0][0] + '다'"
      ],
      "execution_count": null,
      "outputs": []
    },
    {
      "cell_type": "code",
      "metadata": {
        "id": "CHBbFb-YSNID",
        "colab_type": "code",
        "colab": {
          "base_uri": "https://localhost:8080/",
          "height": 122
        },
        "outputId": "18597537-6330-48f1-deba-a8fec7a5b9d7"
      },
      "source": [
        "Komoran().pos('나는 사과를 먹는다')"
      ],
      "execution_count": null,
      "outputs": [
        {
          "output_type": "execute_result",
          "data": {
            "text/plain": [
              "[('나', 'NP'),\n",
              " ('는', 'JX'),\n",
              " ('사과', 'NNG'),\n",
              " ('를', 'JKO'),\n",
              " ('먹', 'VV'),\n",
              " ('는다', 'EC')]"
            ]
          },
          "metadata": {
            "tags": []
          },
          "execution_count": 4
        }
      ]
    },
    {
      "cell_type": "code",
      "metadata": {
        "id": "4I_kFl2KSYL3",
        "colab_type": "code",
        "colab": {}
      },
      "source": [
        "from konlpy.tag import Kkma"
      ],
      "execution_count": null,
      "outputs": []
    },
    {
      "cell_type": "code",
      "metadata": {
        "id": "9xGgcMDmTvZP",
        "colab_type": "code",
        "colab": {
          "base_uri": "https://localhost:8080/",
          "height": 140
        },
        "outputId": "addf9efa-60ab-401c-82ad-b40f7234d46e"
      },
      "source": [
        "Kkma().pos('나는 사과를 먹는다') # VV "
      ],
      "execution_count": null,
      "outputs": [
        {
          "output_type": "execute_result",
          "data": {
            "text/plain": [
              "[('나', 'VV'),\n",
              " ('는', 'ETD'),\n",
              " ('사과', 'NNG'),\n",
              " ('를', 'JKO'),\n",
              " ('먹', 'VV'),\n",
              " ('는', 'EPT'),\n",
              " ('다', 'EFN')]"
            ]
          },
          "metadata": {
            "tags": []
          },
          "execution_count": 6
        }
      ]
    },
    {
      "cell_type": "code",
      "metadata": {
        "id": "4oGb0r6kUitD",
        "colab_type": "code",
        "colab": {
          "base_uri": "https://localhost:8080/",
          "height": 142
        },
        "outputId": "74a6ed48-8909-45ee-ff89-8e78962dbf59"
      },
      "source": [
        "# 전처리된 리뷰 데이터 불러오기\n",
        "from google.colab import drive\n",
        "drive.mount('/gdrive', force_remount=True)\n",
        "\n",
        "\n",
        "!ls \"/gdrive/My Drive/PPAM\""
      ],
      "execution_count": null,
      "outputs": [
        {
          "output_type": "stream",
          "text": [
            "Go to this URL in a browser: https://accounts.google.com/o/oauth2/auth?client_id=947318989803-6bn6qk8qdgf4n4g3pfee6491hc0brc4i.apps.googleusercontent.com&redirect_uri=urn%3aietf%3awg%3aoauth%3a2.0%3aoob&response_type=code&scope=email%20https%3a%2f%2fwww.googleapis.com%2fauth%2fdocs.test%20https%3a%2f%2fwww.googleapis.com%2fauth%2fdrive%20https%3a%2f%2fwww.googleapis.com%2fauth%2fdrive.photos.readonly%20https%3a%2f%2fwww.googleapis.com%2fauth%2fpeopleapi.readonly\n",
            "\n",
            "Enter your authorization code:\n",
            "··········\n",
            "Mounted at /gdrive\n",
            "hanspell.csv  review_cleaned.csv  review_df.csv\n"
          ],
          "name": "stdout"
        }
      ]
    },
    {
      "cell_type": "code",
      "metadata": {
        "id": "WMi4iMaKTzQm",
        "colab_type": "code",
        "colab": {}
      },
      "source": [
        "import pandas as pd\n",
        "import numpy as np"
      ],
      "execution_count": null,
      "outputs": []
    },
    {
      "cell_type": "code",
      "metadata": {
        "id": "P4R-8c_SUzA6",
        "colab_type": "code",
        "colab": {}
      },
      "source": [
        "df = pd.read_csv('/gdrive/My Drive/PPAM/review_cleaned.csv',encoding='cp949')"
      ],
      "execution_count": null,
      "outputs": []
    },
    {
      "cell_type": "code",
      "metadata": {
        "id": "OIx8azZKVZs-",
        "colab_type": "code",
        "colab": {
          "base_uri": "https://localhost:8080/",
          "height": 519
        },
        "outputId": "d4158fdd-985f-4817-e363-d4d1884a4afc"
      },
      "source": [
        "df"
      ],
      "execution_count": null,
      "outputs": [
        {
          "output_type": "execute_result",
          "data": {
            "text/html": [
              "<div>\n",
              "<style scoped>\n",
              "    .dataframe tbody tr th:only-of-type {\n",
              "        vertical-align: middle;\n",
              "    }\n",
              "\n",
              "    .dataframe tbody tr th {\n",
              "        vertical-align: top;\n",
              "    }\n",
              "\n",
              "    .dataframe thead th {\n",
              "        text-align: right;\n",
              "    }\n",
              "</style>\n",
              "<table border=\"1\" class=\"dataframe\">\n",
              "  <thead>\n",
              "    <tr style=\"text-align: right;\">\n",
              "      <th></th>\n",
              "      <th>Unnamed: 0</th>\n",
              "      <th>date</th>\n",
              "      <th>review</th>\n",
              "      <th>review_remove_specialChar</th>\n",
              "      <th>review_cleaned</th>\n",
              "    </tr>\n",
              "  </thead>\n",
              "  <tbody>\n",
              "    <tr>\n",
              "      <th>0</th>\n",
              "      <td>0</td>\n",
              "      <td>20200310</td>\n",
              "      <td>늘 같은 브랜드만 사용하다가 뭐에 꽂혔는지 이 제품을 샀습니다 공주같는 고양이가 끌...</td>\n",
              "      <td>늘 같은 브랜드만 사용하다가 뭐에 꽂혔는지 이 제품을 샀습니다 공주같는 고양이가 끌...</td>\n",
              "      <td>늘 같은 브랜드만 사용 하다가 뭐에 꽂혔는지 이 제품을 샀습니다 공주 같는 고양이가...</td>\n",
              "    </tr>\n",
              "    <tr>\n",
              "      <th>1</th>\n",
              "      <td>1</td>\n",
              "      <td>20200424</td>\n",
              "      <td>제가 양이 적어서 언제나 중형만 사용했는데 나이가 들면서 조금씩 변하더라고요 그래서...</td>\n",
              "      <td>제가 양이 적어서 언제나 중형만 사용했는데 나이가 들면서 조금씩 변하더라고요 그래서...</td>\n",
              "      <td>제가 양이 적어서 언제나 중형만 사용 했는데 나이가 들면서 조금씩 변하더라고요 그래...</td>\n",
              "    </tr>\n",
              "    <tr>\n",
              "      <th>2</th>\n",
              "      <td>2</td>\n",
              "      <td>20200312</td>\n",
              "      <td>생리대 마트표 오버나이트만 쓰다가 인터넷으로 종류다양한걸 구매했네요 오버나이트는 오...</td>\n",
              "      <td>생리대 마트표 오버나이트만 쓰다가 인터넷으로 종류다양한걸 구매했네요 오버나이트는 오...</td>\n",
              "      <td>생리대 마트 표 오버 나이트만 쓰다가 인터넷으로 종류 다양한 걸 구매 했네요 오버 ...</td>\n",
              "    </tr>\n",
              "    <tr>\n",
              "      <th>3</th>\n",
              "      <td>3</td>\n",
              "      <td>20200408</td>\n",
              "      <td>원래 좋은느낌만 오랫동안 사용해 왔다가 코로나로 나가기도 글코해서 주문하려고 보다보...</td>\n",
              "      <td>원래 좋은느낌만 오랫동안 사용해 왔다가 코로나로 나가기도 글코해서 주문하려고 보다보...</td>\n",
              "      <td>원래 좋은 느낌만 오랫동안 사용 해 왔다가 코로나로 나가기도 글코 해서 주문 하려고...</td>\n",
              "    </tr>\n",
              "    <tr>\n",
              "      <th>4</th>\n",
              "      <td>4</td>\n",
              "      <td>20170528</td>\n",
              "      <td>?중형3팩 대형2팩오버나이트1팩 6000원 쿠폰써서 싸게 구매  ?그동안 안간지럽다...</td>\n",
              "      <td>중형팩 대형팩오버나이트팩 원 쿠폰써서 싸게 구매  그동안 안간지럽다는 시크릿홀도 써...</td>\n",
              "      <td>중형 팩 대형 팩 오버 나이트 팩 원 쿠폰 써서 싸게 구매 그동안 안 간지럽다는 시...</td>\n",
              "    </tr>\n",
              "    <tr>\n",
              "      <th>...</th>\n",
              "      <td>...</td>\n",
              "      <td>...</td>\n",
              "      <td>...</td>\n",
              "      <td>...</td>\n",
              "      <td>...</td>\n",
              "    </tr>\n",
              "    <tr>\n",
              "      <th>145</th>\n",
              "      <td>145</td>\n",
              "      <td>20200508</td>\n",
              "      <td>언제나 잘 써요</td>\n",
              "      <td>언제나 잘 써요</td>\n",
              "      <td>언제나 잘 써요</td>\n",
              "    </tr>\n",
              "    <tr>\n",
              "      <th>146</th>\n",
              "      <td>146</td>\n",
              "      <td>20200508</td>\n",
              "      <td>굳</td>\n",
              "      <td>굳</td>\n",
              "      <td>굳</td>\n",
              "    </tr>\n",
              "    <tr>\n",
              "      <th>147</th>\n",
              "      <td>147</td>\n",
              "      <td>20200507</td>\n",
              "      <td>미사용중이고 가격좋고편해서 구매요</td>\n",
              "      <td>미사용중이고 가격좋고편해서 구매요</td>\n",
              "      <td>미 사용중이고 가격 좋고 편해서 구매요</td>\n",
              "    </tr>\n",
              "    <tr>\n",
              "      <th>148</th>\n",
              "      <td>148</td>\n",
              "      <td>20200507</td>\n",
              "      <td>처음 사용해보는데 좋길 기대해봅니다</td>\n",
              "      <td>처음 사용해보는데 좋길 기대해봅니다</td>\n",
              "      <td>처음 사용 해보는데 좋길 기대 해봅니다</td>\n",
              "    </tr>\n",
              "    <tr>\n",
              "      <th>149</th>\n",
              "      <td>149</td>\n",
              "      <td>20200507</td>\n",
              "      <td>언제나 쓰는생리대에요 딸이랑같이 포장지도 이쁘고 배송도굿</td>\n",
              "      <td>언제나 쓰는생리대에요 딸이랑같이 포장지도 이쁘고 배송도굿</td>\n",
              "      <td>언제나 쓰는 생리대에요 딸이랑 같이 포장 지도 이쁘고 배송도 굿</td>\n",
              "    </tr>\n",
              "  </tbody>\n",
              "</table>\n",
              "<p>150 rows × 5 columns</p>\n",
              "</div>"
            ],
            "text/plain": [
              "     Unnamed: 0  ...                                     review_cleaned\n",
              "0             0  ...  늘 같은 브랜드만 사용 하다가 뭐에 꽂혔는지 이 제품을 샀습니다 공주 같는 고양이가...\n",
              "1             1  ...  제가 양이 적어서 언제나 중형만 사용 했는데 나이가 들면서 조금씩 변하더라고요 그래...\n",
              "2             2  ...  생리대 마트 표 오버 나이트만 쓰다가 인터넷으로 종류 다양한 걸 구매 했네요 오버 ...\n",
              "3             3  ...  원래 좋은 느낌만 오랫동안 사용 해 왔다가 코로나로 나가기도 글코 해서 주문 하려고...\n",
              "4             4  ...  중형 팩 대형 팩 오버 나이트 팩 원 쿠폰 써서 싸게 구매 그동안 안 간지럽다는 시...\n",
              "..          ...  ...                                                ...\n",
              "145         145  ...                                           언제나 잘 써요\n",
              "146         146  ...                                                  굳\n",
              "147         147  ...                              미 사용중이고 가격 좋고 편해서 구매요\n",
              "148         148  ...                              처음 사용 해보는데 좋길 기대 해봅니다\n",
              "149         149  ...                언제나 쓰는 생리대에요 딸이랑 같이 포장 지도 이쁘고 배송도 굿\n",
              "\n",
              "[150 rows x 5 columns]"
            ]
          },
          "metadata": {
            "tags": []
          },
          "execution_count": 10
        }
      ]
    },
    {
      "cell_type": "code",
      "metadata": {
        "id": "tyrFNPeHVcbt",
        "colab_type": "code",
        "colab": {}
      },
      "source": [
        "Kkma().pos(df['review_cleaned'][0])"
      ],
      "execution_count": null,
      "outputs": []
    },
    {
      "cell_type": "code",
      "metadata": {
        "id": "j-y1I41UVk6w",
        "colab_type": "code",
        "colab": {}
      },
      "source": [
        "# 해당 형태소가 키워드가 될 수 있는 명사, 동사, 형용사, 부사 중 하나인지 확인하기\n",
        "def can_be_keyword(review):\n",
        "  temp = []\n",
        "  tagged = Kkma().pos(review)\n",
        "  for i in range(0,len(tagged)):\n",
        "    if tagged[i][1] in ['NNG','NNP','NNB','VV','VA','MAG','XR']:\n",
        "      temp.append(tagged[i][0])\n",
        "  return temp"
      ],
      "execution_count": null,
      "outputs": []
    },
    {
      "cell_type": "code",
      "metadata": {
        "id": "3rxDdE44YkUi",
        "colab_type": "code",
        "colab": {}
      },
      "source": [
        "temp = can_be_keyword(df['review_cleaned'][0])"
      ],
      "execution_count": null,
      "outputs": []
    },
    {
      "cell_type": "code",
      "metadata": {
        "id": "8dOj8d0MYrdT",
        "colab_type": "code",
        "colab": {}
      },
      "source": [
        "keyword_pool = pd.read_csv('/gdrive/My Drive/PPAM/keyword_pool_tagged.csv',encoding='cp949')"
      ],
      "execution_count": null,
      "outputs": []
    },
    {
      "cell_type": "code",
      "metadata": {
        "id": "vbQ4079sbF83",
        "colab_type": "code",
        "colab": {
          "base_uri": "https://localhost:8080/",
          "height": 932
        },
        "outputId": "5f53d82e-1a22-4c8d-f6a8-ec9f9101a052"
      },
      "source": [
        "keyword_pool['keyword']"
      ],
      "execution_count": null,
      "outputs": [
        {
          "output_type": "execute_result",
          "data": {
            "text/plain": [
              "0      가격\n",
              "1     가려움\n",
              "2      가렵\n",
              "3     가성비\n",
              "4      길이\n",
              "5      냄새\n",
              "6      넉넉\n",
              "7       넓\n",
              "8      느낌\n",
              "9      도톰\n",
              "10     두껍\n",
              "11     두께\n",
              "12    디자인\n",
              "13     따갑\n",
              "14    떨어지\n",
              "15     매끈\n",
              "16     민감\n",
              "17     바지\n",
              "18    부드럽\n",
              "19     뽀송\n",
              "20      새\n",
              "21     성분\n",
              "22     소재\n",
              "23     순면\n",
              "24     슬림\n",
              "25     쓸리\n",
              "26    알러지\n",
              "27      얇\n",
              "28      양\n",
              "29     예민\n",
              "30    유기농\n",
              "31     자극\n",
              "32    재구매\n",
              "33     재질\n",
              "34     접착\n",
              "35    접착력\n",
              "36     정착\n",
              "37     질감\n",
              "38     착용\n",
              "39     촉감\n",
              "40     추천\n",
              "41     출산\n",
              "42    트러블\n",
              "43     팬티\n",
              "44     편안\n",
              "45     편이\n",
              "46     표면\n",
              "47     피부\n",
              "48     허브\n",
              "49     흡수\n",
              "50    흡수력\n",
              "Name: keyword, dtype: object"
            ]
          },
          "metadata": {
            "tags": []
          },
          "execution_count": 80
        }
      ]
    },
    {
      "cell_type": "code",
      "metadata": {
        "id": "MKiKTHRRejvt",
        "colab_type": "code",
        "colab": {}
      },
      "source": [
        "# 제품 리뷰에서 추출한 형태소와 리뷰 풀에 있는 형태소 비교\n",
        "def is_keyword(review_temp):\n",
        "  temp2 = []\n",
        "  for i in range(0,len(review_temp)):\n",
        "    if review_temp[i] in keyword_pool['keyword'].values:\n",
        "        temp2.append(review_temp[i])\n",
        "  return temp2"
      ],
      "execution_count": null,
      "outputs": []
    },
    {
      "cell_type": "code",
      "metadata": {
        "id": "9bmlIdLZfo2s",
        "colab_type": "code",
        "colab": {
          "base_uri": "https://localhost:8080/",
          "height": 34
        },
        "outputId": "a7ee5450-d6d8-471f-e622-94910234c831"
      },
      "source": [
        "is_keyword(temp)"
      ],
      "execution_count": null,
      "outputs": [
        {
          "output_type": "execute_result",
          "data": {
            "text/plain": [
              "['재질', '흡수', '길이', '얇', '착용']"
            ]
          },
          "metadata": {
            "tags": []
          },
          "execution_count": 86
        }
      ]
    },
    {
      "cell_type": "code",
      "metadata": {
        "id": "A5RLXA34fvb3",
        "colab_type": "code",
        "colab": {}
      },
      "source": [
        "can_be_keyword(df['review_cleaned'][0])"
      ],
      "execution_count": null,
      "outputs": []
    },
    {
      "cell_type": "code",
      "metadata": {
        "id": "YEL4uLm0f67S",
        "colab_type": "code",
        "colab": {
          "base_uri": "https://localhost:8080/",
          "height": 34
        },
        "outputId": "dd2ab1c6-9082-49cc-b1fc-18157aad2012"
      },
      "source": [
        "'길이' in keyword_pool['keyword'].values"
      ],
      "execution_count": null,
      "outputs": [
        {
          "output_type": "execute_result",
          "data": {
            "text/plain": [
              "True"
            ]
          },
          "metadata": {
            "tags": []
          },
          "execution_count": 84
        }
      ]
    },
    {
      "cell_type": "code",
      "metadata": {
        "id": "ejDXqQwPglXi",
        "colab_type": "code",
        "colab": {}
      },
      "source": [
        ""
      ],
      "execution_count": null,
      "outputs": []
    }
  ]
}